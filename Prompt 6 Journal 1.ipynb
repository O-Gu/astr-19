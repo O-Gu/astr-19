{
 "cells": [
  {
   "cell_type": "code",
   "execution_count": null,
   "id": "86b34e6e",
   "metadata": {},
   "outputs": [],
   "source": [
    "import numpy as np"
   ]
  },
  {
   "cell_type": "code",
   "execution_count": null,
   "id": "47851d87",
   "metadata": {},
   "outputs": [],
   "source": [
    "x= np.linspace(0, 2*np.pi, num=1000)"
   ]
  },
  {
   "cell_type": "code",
   "execution_count": null,
   "id": "39bd69bb",
   "metadata": {},
   "outputs": [],
   "source": [
    "f_x= np.sin(x)"
   ]
  },
  {
   "cell_type": "code",
   "execution_count": null,
   "id": "601aee19",
   "metadata": {},
   "outputs": [],
   "source": [
    "y_x= np.cos(x)"
   ]
  },
  {
   "cell_type": "markdown",
   "id": "66f0e6e1",
   "metadata": {},
   "source": [
    "This makes the functions f_x be the valuse of sin(x) and the finction Y_x be the value of cos(x)"
   ]
  },
  {
   "cell_type": "code",
   "execution_count": null,
   "id": "02aff9de",
   "metadata": {
    "scrolled": false
   },
   "outputs": [],
   "source": [
    "a= list(x)\n",
    "b= list(f_x)\n",
    "c=list(y_x)\n",
    "for item in a[:10]:\n",
    "    print (item)\n",
    "for item in b[:10]:\n",
    "    print (item)\n",
    "for item in c[:10]:\n",
    "    print (item)\n"
   ]
  },
  {
   "cell_type": "code",
   "execution_count": null,
   "id": "2b4e70c0",
   "metadata": {},
   "outputs": [],
   "source": []
  }
 ],
 "metadata": {
  "kernelspec": {
   "display_name": "Python 3 (ipykernel)",
   "language": "python",
   "name": "python3"
  },
  "language_info": {
   "codemirror_mode": {
    "name": "ipython",
    "version": 3
   },
   "file_extension": ".py",
   "mimetype": "text/x-python",
   "name": "python",
   "nbconvert_exporter": "python",
   "pygments_lexer": "ipython3",
   "version": "3.10.4"
  }
 },
 "nbformat": 4,
 "nbformat_minor": 5
}
