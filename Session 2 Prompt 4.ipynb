{
 "cells": [
  {
   "cell_type": "code",
   "execution_count": 1,
   "id": "73729307",
   "metadata": {},
   "outputs": [],
   "source": [
    "import numpy as np\n",
    "import matplotlib.pyplot as plt"
   ]
  },
  {
   "cell_type": "code",
   "execution_count": 6,
   "id": "96b6e1bd",
   "metadata": {},
   "outputs": [
    {
     "data": {
      "image/png": "[encoded data removed]",
      "text/plain": [
       "<Figure size 432x288 with 1 Axes>"
      ]
     },
     "metadata": {
      "needs_background": "light"
     },
     "output_type": "display_data"
    }
   ],
   "source": [
    "x= np.random.rayleigh(8,1000)\n",
    "num_bins=100\n",
    "\n",
    "plt.hist(x,bins=num_bins,edgecolor='black')\n",
    "plt.xlabel('Random numbers')\n",
    "plt.ylabel('Numbers per bins')\n",
    "\n",
    "plt.savefig('Prompt_4.pdf',bbox_inches='tight',facecolor=\"darkslategrey\")"
   ]
  },
  {
   "cell_type": "code",
   "execution_count": null,
   "id": "9e273b0e",
   "metadata": {},
   "outputs": [],
   "source": []
  }
 ],
 "metadata": {
  "kernelspec": {
   "display_name": "Python 3 (ipykernel)",
   "language": "python",
   "name": "python3"
  },
  "language_info": {
   "codemirror_mode": {
    "name": "ipython",
    "version": 3
   },
   "file_extension": ".py",
   "mimetype": "text/x-python",
   "name": "python",
   "nbconvert_exporter": "python",
   "pygments_lexer": "ipython3",
   "version": "3.10.4"
  }
 },
 "nbformat": 4,
 "nbformat_minor": 5
}
